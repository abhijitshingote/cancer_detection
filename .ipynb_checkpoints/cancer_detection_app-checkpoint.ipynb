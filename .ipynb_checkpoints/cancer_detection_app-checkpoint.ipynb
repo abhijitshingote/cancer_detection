{
 "cells": [
  {
   "cell_type": "code",
   "execution_count": 34,
   "metadata": {
    "collapsed": false
   },
   "outputs": [],
   "source": [
    "from keras.models import Sequential\n",
    "from keras.layers import Dense,Flatten,Dropout\n",
    "import numpy as np\n",
    "import matplotlib.pyplot as plt\n",
    "%matplotlib inline\n",
    "from sklearn.datasets import load_files\n",
    "from keras.utils import np_utils"
   ]
  },
  {
   "cell_type": "code",
   "execution_count": 35,
   "metadata": {
    "collapsed": false
   },
   "outputs": [],
   "source": [
    "files=load_files('data/train/')\n",
    "train_filenames=files['filenames']\n",
    "train_targets=np_utils.to_categorical(files['target'])"
   ]
  },
  {
   "cell_type": "code",
   "execution_count": 36,
   "metadata": {
    "collapsed": false
   },
   "outputs": [],
   "source": [
    "from keras.preprocessing import image\n",
    "\n",
    "def path_to_tensor(path):\n",
    "    img=image.load_img(path,target_size=[254,254,3])\n",
    "    img=image.img_to_array(img)\n",
    "    return np.expand_dims(img,axis=0)\n",
    "\n",
    "def paths_to_tensors(paths):\n",
    "    tensors=[path_to_tensor(x) for x in paths]\n",
    "    return np.vstack(tensors)\n",
    "\n",
    "train_tensors=paths_to_tensors(train_filenames[:50])"
   ]
  },
  {
   "cell_type": "code",
   "execution_count": 37,
   "metadata": {
    "collapsed": true
   },
   "outputs": [],
   "source": [
    "## Get bottleneck features\n",
    "\n",
    "from keras.applications import ResNet50\n",
    "from keras.applications.resnet50 import preprocess_input\n",
    "processed_tensors=preprocess_input(train_tensors)\n",
    "model=ResNet50(include_top=False,weights='imagenet')"
   ]
  },
  {
   "cell_type": "code",
   "execution_count": 38,
   "metadata": {
    "collapsed": false
   },
   "outputs": [
    {
     "data": {
      "text/plain": [
       "array([[[[  2.93018270e+00,   0.00000000e+00,   3.56384248e-01, ...,\n",
       "            1.89425603e-01,   3.15063834e-01,   3.93224768e-02]]],\n",
       "\n",
       "\n",
       "       [[[  8.93819213e-01,   3.33907455e-02,   7.87230060e-02, ...,\n",
       "            1.71077979e+00,   1.35155529e-01,   3.89300525e-01]]],\n",
       "\n",
       "\n",
       "       [[[  2.02459723e-01,   0.00000000e+00,   4.29525107e-01, ...,\n",
       "            5.71255445e+00,   4.34534886e-04,   0.00000000e+00]]]], dtype=float32)"
      ]
     },
     "execution_count": 38,
     "metadata": {},
     "output_type": "execute_result"
    }
   ],
   "source": [
    "model.predict(train_tensors[0:3])"
   ]
  },
  {
   "cell_type": "code",
   "execution_count": null,
   "metadata": {
    "collapsed": true
   },
   "outputs": [],
   "source": []
  }
 ],
 "metadata": {
  "kernelspec": {
   "display_name": "Python 3",
   "language": "python",
   "name": "python3"
  },
  "language_info": {
   "codemirror_mode": {
    "name": "ipython",
    "version": 3
   },
   "file_extension": ".py",
   "mimetype": "text/x-python",
   "name": "python",
   "nbconvert_exporter": "python",
   "pygments_lexer": "ipython3",
   "version": "3.6.0"
  }
 },
 "nbformat": 4,
 "nbformat_minor": 2
}
