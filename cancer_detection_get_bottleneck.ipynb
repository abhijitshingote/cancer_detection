{
 "cells": [
  {
   "cell_type": "code",
   "execution_count": 1,
   "metadata": {
    "collapsed": false,
    "deletable": true,
    "editable": true
   },
   "outputs": [
    {
     "name": "stderr",
     "output_type": "stream",
     "text": [
      "Using TensorFlow backend.\n"
     ]
    }
   ],
   "source": [
    "from keras.models import Sequential\n",
    "from keras.layers import Dense,Flatten,Dropout\n",
    "import numpy as np\n",
    "import matplotlib.pyplot as plt\n",
    "%matplotlib inline\n",
    "from sklearn.datasets import load_files\n",
    "from keras.utils import np_utils\n",
    "from keras.applications import resnet50,inception_v3,vgg16,vgg19,xception\n",
    "from keras.preprocessing import image\n",
    "from keras.preprocessing.image import ImageDataGenerator"
   ]
  },
  {
   "cell_type": "code",
   "execution_count": 2,
   "metadata": {
    "collapsed": true,
    "deletable": true,
    "editable": true
   },
   "outputs": [],
   "source": [
    "## Remember to preprocceess input \n",
    "## Remember to Augment \n",
    "## Rremember to save your model weights\n",
    "## Remember to wrap all in save_bottleneck features"
   ]
  },
  {
   "cell_type": "code",
   "execution_count": 3,
   "metadata": {
    "collapsed": false,
    "deletable": true,
    "editable": true
   },
   "outputs": [],
   "source": [
    "def path_to_tensor(path):\n",
    "    img=image.load_img(path,target_size=[254,254,3])\n",
    "    img=image.img_to_array(img)\n",
    "    return np.expand_dims(img,axis=0)\n",
    "\n",
    "def paths_to_tensors(paths):\n",
    "    tensors=[path_to_tensor(x) for x in paths]\n",
    "    return np.vstack(tensors)"
   ]
  },
  {
   "cell_type": "code",
   "execution_count": null,
   "metadata": {
    "collapsed": false,
    "deletable": true,
    "editable": true
   },
   "outputs": [],
   "source": [
    "## Get bottleneck features\n",
    "def get_bottleneck(paths,modelname,outputfilename):\n",
    "    batch_size=25\n",
    "    samples=len(paths)\n",
    "    img_generator=ImageDataGenerator(width_shift_range=0.1,height_shift_range=0.1,horizontal_flip=True,vertical_flip=True)\n",
    "    \n",
    "    tensors=paths_to_tensors(paths)\n",
    "    \n",
    "    if modelname=='resnet50':\n",
    "\n",
    "        processed_tensors=resnet50.preprocess_input(tensors)\n",
    "    elif modelname=='vgg16':\n",
    "        processed_tensors=vgg16.preprocess_input(tensors)\n",
    "    elif modelname=='vgg19':\n",
    "        processed_tensors=vgg19.preprocess_input(tensors)\n",
    "    elif modelname=='xception':\n",
    "        processed_tensors=xception.preprocess_input(tensors)\n",
    "    elif modelname=='inception_v3':\n",
    "        processed_tensors=inception_v3.preprocess_input(tensors)\n",
    "    else:\n",
    "        print(\"Unrecognized Model Name\")\n",
    "        \n",
    "    img_gen=img_generator.flow(x=processed_tensors,batch_size=batch_size,shuffle=False)\n",
    "    \n",
    "    if modelname=='resnet50':\n",
    "\n",
    "        model=resnet50.ResNet50(include_top=False,weights='imagenet')\n",
    "    elif modelname=='vgg16':\n",
    "        model=vgg16.VGG16(include_top=False,weights='imagenet')\n",
    "    elif modelname=='vgg19':\n",
    "        model=vgg19.VGG19(include_top=False,weights='imagenet')\n",
    "    elif modelname=='xception':\n",
    "        model=xception.Xception(include_top=False,weights='imagenet')\n",
    "    elif modelname=='inception_v3':\n",
    "        model=inception_v3.InceptionV3(include_top=False,weights='imagenet')\n",
    "        \n",
    "        \n",
    "    bottleneck=model.predict_generator(generator=img_gen,steps=np.ceil(samples/batch_size))\n",
    "    np.save(open(outputfilename,'wb'),bottleneck)"
   ]
  },
  {
   "cell_type": "code",
   "execution_count": null,
   "metadata": {
    "collapsed": false,
    "deletable": true,
    "editable": true
   },
   "outputs": [],
   "source": [
    "trainfiles=load_files('data/train/')\n",
    "train_filenames=trainfiles['filenames']\n",
    "train_targets=np_utils.to_categorical(trainfiles['target'])\n",
    "\n",
    "get_bottleneck(train_filenames,'resnet50','bottleneck_train_resnet50_cancdetect')\n",
    "get_bottleneck(train_filenames,'vgg16','bottleneck_train_vgg16_cancdetect')\n",
    "get_bottleneck(train_filenames,'vgg19','bottleneck_train_vgg19_cancdetect')\n",
    "get_bottleneck(train_filenames,'xception','bottleneck_train_xception_cancdetect')\n",
    "get_bottleneck(train_filenames,'inception_v3','bottleneck_train_inception_v3_cancdetect')"
   ]
  },
  {
   "cell_type": "code",
   "execution_count": null,
   "metadata": {
    "collapsed": true,
    "deletable": true,
    "editable": true
   },
   "outputs": [],
   "source": [
    "validfiles=load_files('data/valid/')\n",
    "valid_filenames=validfiles['filenames']\n",
    "valid_targets=np_utils.to_categorical(validfiles['target'])\n",
    "\n",
    "get_bottleneck(valid_filenames,'resnet50','bottleneck_valid_resnet50_cancdetect')\n",
    "get_bottleneck(valid_filenames,'vgg16','bottleneck_valid_vgg16_cancdetect')\n",
    "get_bottleneck(valid_filenames,'vgg19','bottleneck_valid_vgg19_cancdetect')\n",
    "get_bottleneck(valid_filenames,'xception','bottleneck_valid_xception_cancdetect')\n",
    "get_bottleneck(valid_filenames,'inception_v3','bottleneck_valid_inception_v3_cancdetect')"
   ]
  },
  {
   "cell_type": "code",
   "execution_count": null,
   "metadata": {
    "collapsed": true,
    "deletable": true,
    "editable": true
   },
   "outputs": [],
   "source": [
    "testfiles=load_files('data/test/')\n",
    "test_filenames=testfiles['filenames']\n",
    "test_targets=np_utils.to_categorical(testfiles['target'])\n",
    "\n",
    "get_bottleneck(test_filenames,'resnet50','bottleneck_test_resnet50_cancdetect')\n",
    "get_bottleneck(test_filenames,'vgg16','bottleneck_test_vgg16_cancdetect')\n",
    "get_bottleneck(test_filenames,'vgg19','bottleneck_test_vgg19_cancdetect')\n",
    "get_bottleneck(test_filenames,'xception','bottleneck_test_xception_cancdetect')\n",
    "get_bottleneck(test_filenames,'inception_v3','bottleneck_test_inception_v3_cancdetect')\n"
   ]
  }
 ],
 "metadata": {
  "anaconda-cloud": {},
  "kernelspec": {
   "display_name": "Python [default]",
   "language": "python",
   "name": "python3"
  },
  "language_info": {
   "codemirror_mode": {
    "name": "ipython",
    "version": 3
   },
   "file_extension": ".py",
   "mimetype": "text/x-python",
   "name": "python",
   "nbconvert_exporter": "python",
   "pygments_lexer": "ipython3",
   "version": "3.5.3"
  }
 },
 "nbformat": 4,
 "nbformat_minor": 2
}
