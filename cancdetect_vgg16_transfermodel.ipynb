{
 "cells": [
  {
   "cell_type": "code",
   "execution_count": 1,
   "metadata": {
    "collapsed": false,
    "deletable": true,
    "editable": true
   },
   "outputs": [
    {
     "name": "stderr",
     "output_type": "stream",
     "text": [
      "Using TensorFlow backend.\n"
     ]
    }
   ],
   "source": [
    "from keras.models import Sequential\n",
    "from keras.layers import Dense,Dropout,GlobalAveragePooling2D,Flatten\n",
    "from sklearn.datasets import load_files\n",
    "from keras.utils import np_utils\n",
    "import numpy as np\n",
    "from keras.callbacks import ModelCheckpoint"
   ]
  },
  {
   "cell_type": "code",
   "execution_count": 2,
   "metadata": {
    "collapsed": false,
    "deletable": true,
    "editable": true
   },
   "outputs": [],
   "source": [
    "bottleneck_train=np.load('bottleneck_train_vgg16_cancdetect')\n",
    "bottleneck_valid=np.load('bottleneck_valid_vgg16_cancdetect')\n",
    "bottleneck_test=np.load('bottleneck_test_vgg16_cancdetect')"
   ]
  },
  {
   "cell_type": "code",
   "execution_count": null,
   "metadata": {
    "collapsed": false,
    "deletable": true,
    "editable": true
   },
   "outputs": [
    {
     "data": {
      "text/plain": [
       "(2000, 7, 7, 512)"
      ]
     },
     "execution_count": 3,
     "metadata": {},
     "output_type": "execute_result"
    }
   ],
   "source": [
    "bottleneck_train.shape"
   ]
  },
  {
   "cell_type": "code",
   "execution_count": null,
   "metadata": {
    "collapsed": false,
    "deletable": true,
    "editable": true
   },
   "outputs": [],
   "source": [
    "trainfiles=load_files('data/train/')\n",
    "train_filenames=trainfiles['filenames']\n",
    "train_targets=np_utils.to_categorical(trainfiles['target'])\n",
    "\n",
    "validfiles=load_files('data/valid/')\n",
    "valid_filenames=validfiles['filenames']\n",
    "valid_targets=np_utils.to_categorical(validfiles['target'])\n",
    "\n",
    "testfiles=load_files('data/test/')\n",
    "test_filenames=testfiles['filenames']\n",
    "test_targets=np_utils.to_categorical(testfiles['target'])"
   ]
  },
  {
   "cell_type": "code",
   "execution_count": null,
   "metadata": {
    "collapsed": false,
    "deletable": true,
    "editable": true
   },
   "outputs": [],
   "source": [
    "model=Sequential()\n",
    "model.add(GlobalAveragePooling2D(input_shape=bottleneck_train.shape[1:]))\n",
    "# model.add(Dense(units=1000,activation='relu'))\n",
    "model.add(Dense(units=len(trainfiles['target_names']),activation='softmax'))\n",
    "model.summary()"
   ]
  },
  {
   "cell_type": "code",
   "execution_count": null,
   "metadata": {
    "collapsed": true,
    "deletable": true,
    "editable": true
   },
   "outputs": [],
   "source": [
    "model.compile(loss='categorical_crossentropy',metrics=['accuracy'],optimizer='rmsprop')"
   ]
  },
  {
   "cell_type": "code",
   "execution_count": null,
   "metadata": {
    "collapsed": false,
    "deletable": true,
    "editable": true
   },
   "outputs": [],
   "source": [
    "\n",
    "checkpointer=ModelCheckpoint(filepath='cancdetect_transfer_vgg16.weights.best.hdf5',verbose=1,save_best_only=True)\n",
    "\n",
    "model.fit(bottleneck_train,train_targets,batch_size=10,epochs=100,shuffle=True,verbose=1,callbacks=[checkpointer],\n",
    "             validation_data=[bottleneck_valid,valid_targets])"
   ]
  },
  {
   "cell_type": "code",
   "execution_count": null,
   "metadata": {
    "collapsed": true,
    "deletable": true,
    "editable": true
   },
   "outputs": [],
   "source": [
    "model.load_weights('cancdetect_transfer_vgg16.weights.best.hdf5')\n",
    "predictions=model.predict(bottleneck_test)"
   ]
  },
  {
   "cell_type": "code",
   "execution_count": null,
   "metadata": {
    "collapsed": false,
    "deletable": true,
    "editable": true
   },
   "outputs": [],
   "source": [
    "\n",
    "ids=[filename for filename in test_filenames]\n",
    "ids=[x.replace('\\\\','/') for x in ids]\n",
    "sub_csv=[(x,y,z) for x,y,z in zip(ids,predictions[:,0],predictions[:,2])]"
   ]
  },
  {
   "cell_type": "code",
   "execution_count": null,
   "metadata": {
    "collapsed": true,
    "deletable": true,
    "editable": true
   },
   "outputs": [],
   "source": [
    "sub_csv=[('Id','task_1','task_2')]+sub_csv"
   ]
  },
  {
   "cell_type": "code",
   "execution_count": null,
   "metadata": {
    "collapsed": true,
    "deletable": true,
    "editable": true
   },
   "outputs": [],
   "source": [
    "import csv\n",
    "with open('results_vgg16.csv', 'w',newline='')  as myfile:\n",
    "    writer = csv.writer(myfile)\n",
    "#     writer.writerow('file,species')\n",
    "    writer.writerows(sub_csv)"
   ]
  },
  {
   "cell_type": "code",
   "execution_count": null,
   "metadata": {
    "collapsed": true,
    "deletable": true,
    "editable": true
   },
   "outputs": [],
   "source": []
  }
 ],
 "metadata": {
  "anaconda-cloud": {},
  "kernelspec": {
   "display_name": "Python [default]",
   "language": "python",
   "name": "python3"
  },
  "language_info": {
   "codemirror_mode": {
    "name": "ipython",
    "version": 3
   },
   "file_extension": ".py",
   "mimetype": "text/x-python",
   "name": "python",
   "nbconvert_exporter": "python",
   "pygments_lexer": "ipython3",
   "version": "3.5.3"
  }
 },
 "nbformat": 4,
 "nbformat_minor": 2
}
